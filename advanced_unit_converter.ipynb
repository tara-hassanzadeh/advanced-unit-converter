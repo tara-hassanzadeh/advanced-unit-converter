{
  "nbformat": 4,
  "nbformat_minor": 0,
  "metadata": {
    "colab": {
      "provenance": [],
      "authorship_tag": "ABX9TyOQuJji6sOfLW9yrSk/K1RU",
      "include_colab_link": true
    },
    "kernelspec": {
      "name": "python3",
      "display_name": "Python 3"
    },
    "language_info": {
      "name": "python"
    }
  },
  "cells": [
    {
      "cell_type": "markdown",
      "metadata": {
        "id": "view-in-github",
        "colab_type": "text"
      },
      "source": [
        "<a href=\"https://colab.research.google.com/github/tara-hassanzadeh/advanced-unit-converter/blob/main/advanced_unit_converter.ipynb\" target=\"_parent\"><img src=\"https://colab.research.google.com/assets/colab-badge.svg\" alt=\"Open In Colab\"/></a>"
      ]
    },
    {
      "cell_type": "markdown",
      "source": [
        "Advanced unit converter"
      ],
      "metadata": {
        "id": "SYA6E8Yt_6xa"
      }
    },
    {
      "cell_type": "code",
      "execution_count": 3,
      "metadata": {
        "colab": {
          "base_uri": "https://localhost:8080/"
        },
        "id": "Xcd5J0ZN_51D",
        "outputId": "0a48a62c-5a45-48aa-d0dd-52684a9dbf38"
      },
      "outputs": [
        {
          "output_type": "stream",
          "name": "stdout",
          "text": [
            "🔁 Welcome to the Advanced Multi-Type Unit Converter!\n",
            "\n",
            "📏 Length: mm, cm, m, km, inch, ft, mile\n",
            "⚖️ Weight: mg, g, kg, ton, lb, oz\n",
            "🌡️ Temperature: c, f, k\n",
            "\n",
            "Choose unit type (length / weight / temperature): length\n",
            "Enter value to convert: 100\n",
            "From unit: m\n",
            "To unit: mile\n",
            "✅ 100.0 m = 0.062137 mile\n",
            "\n",
            "Do you want to convert another value? (yes/no): yes\n",
            "Choose unit type (length / weight / temperature): weight\n",
            "Enter value to convert: 54\n",
            "From unit: g\n",
            "To unit: ton\n",
            "✅ 54.0 g = 0.000054 ton\n",
            "\n",
            "Do you want to convert another value? (yes/no): yes\n",
            "Choose unit type (length / weight / temperature): temperature\n",
            "Enter value to convert: 35\n",
            "From unit: c\n",
            "To unit: f\n",
            "✅ 35.0 c = 95.000000 f\n",
            "\n",
            "Do you want to convert another value? (yes/no): no\n",
            "\n",
            "👋 Thanks for using the Unit Converter!\n"
          ]
        }
      ],
      "source": [
        "# --- Advanced Unit Converter with Length, Weight, and Temperature ---\n",
        "\n",
        "def convert_length(value, from_unit, to_unit):\n",
        "    units = {\n",
        "        \"mm\": 0.001,\n",
        "        \"cm\": 0.01,\n",
        "        \"m\": 1,\n",
        "        \"km\": 1000,\n",
        "        \"inch\": 0.0254,\n",
        "        \"ft\": 0.3048,\n",
        "        \"mile\": 1609.34\n",
        "    }\n",
        "\n",
        "    if from_unit not in units or to_unit not in units:\n",
        "        return None, \"❌ Invalid length unit.\"\n",
        "\n",
        "    base_value = value * units[from_unit]\n",
        "    return base_value / units[to_unit], None\n",
        "\n",
        "\n",
        "def convert_weight(value, from_unit, to_unit):\n",
        "    units = {\n",
        "        \"mg\": 0.000001,\n",
        "        \"g\": 0.001,\n",
        "        \"kg\": 1,\n",
        "        \"ton\": 1000,\n",
        "        \"lb\": 0.453592,\n",
        "        \"oz\": 0.0283495\n",
        "    }\n",
        "\n",
        "    if from_unit not in units or to_unit not in units:\n",
        "        return None, \"❌ Invalid weight unit.\"\n",
        "\n",
        "    base_value = value * units[from_unit]\n",
        "    return base_value / units[to_unit], None\n",
        "\n",
        "\n",
        "def convert_temperature(value, from_unit, to_unit):\n",
        "    if from_unit == to_unit:\n",
        "        return value, None\n",
        "\n",
        "    # Convert from from_unit to Celsius\n",
        "    if from_unit == \"c\":\n",
        "        temp_c = value\n",
        "    elif from_unit == \"f\":\n",
        "        temp_c = (value - 32) * 5/9\n",
        "    elif from_unit == \"k\":\n",
        "        temp_c = value - 273.15\n",
        "    else:\n",
        "        return None, \"❌ Invalid temperature unit.\"\n",
        "\n",
        "    # Convert from Celsius to to_unit\n",
        "    if to_unit == \"c\":\n",
        "        return temp_c, None\n",
        "    elif to_unit == \"f\":\n",
        "        return temp_c * 9/5 + 32, None\n",
        "    elif to_unit == \"k\":\n",
        "        return temp_c + 273.15, None\n",
        "    else:\n",
        "        return None, \"❌ Invalid temperature unit.\"\n",
        "\n",
        "\n",
        "def print_supported_units():\n",
        "    print(\"\\n📏 Length: mm, cm, m, km, inch, ft, mile\")\n",
        "    print(\"⚖️ Weight: mg, g, kg, ton, lb, oz\")\n",
        "    print(\"🌡️ Temperature: c, f, k\\n\")\n",
        "\n",
        "\n",
        "def main():\n",
        "    print(\"🔁 Welcome to the Advanced Multi-Type Unit Converter!\")\n",
        "    print_supported_units()\n",
        "\n",
        "    while True:\n",
        "        unit_type = input(\"Choose unit type (length / weight / temperature): \").strip().lower()\n",
        "        try:\n",
        "            value = float(input(\"Enter value to convert: \"))\n",
        "            from_unit = input(\"From unit: \").strip().lower()\n",
        "            to_unit = input(\"To unit: \").strip().lower()\n",
        "        except ValueError:\n",
        "            print(\"❌ Please enter a valid numeric value.\\n\")\n",
        "            continue\n",
        "\n",
        "        if unit_type == \"length\":\n",
        "            result, error = convert_length(value, from_unit, to_unit)\n",
        "        elif unit_type == \"weight\":\n",
        "            result, error = convert_weight(value, from_unit, to_unit)\n",
        "        elif unit_type == \"temperature\":\n",
        "            result, error = convert_temperature(value, from_unit, to_unit)\n",
        "        else:\n",
        "            print(\"❌ Invalid unit type.\\n\")\n",
        "            continue\n",
        "\n",
        "        if error:\n",
        "            print(error + \"\\n\")\n",
        "        else:\n",
        "            print(f\"✅ {value} {from_unit} = {result:.6f} {to_unit}\\n\")\n",
        "\n",
        "        again = input(\"Do you want to convert another value? (yes/no): \").strip().lower()\n",
        "        if again != \"yes\":\n",
        "            print(\"\\n👋 Thanks for using the Unit Converter!\")\n",
        "            break\n",
        "\n",
        "\n",
        "# Run the program\n",
        "main()\n"
      ]
    }
  ]
}